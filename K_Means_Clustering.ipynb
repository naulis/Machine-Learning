{
  "nbformat": 4,
  "nbformat_minor": 0,
  "metadata": {
    "colab": {
      "name": "K-Means Clustering",
      "provenance": []
    },
    "kernelspec": {
      "name": "python3",
      "display_name": "Python 3"
    },
    "language_info": {
      "name": "python"
    }
  },
  "cells": [
    {
      "cell_type": "code",
      "metadata": {
        "colab": {
          "base_uri": "https://localhost:8080/"
        },
        "id": "p5as2NjenDrs",
        "outputId": "e7b17a40-f9ae-4672-a461-5264c8edee1b"
      },
      "source": [
        "!pip install --upgrade kneed"
      ],
      "execution_count": null,
      "outputs": [
        {
          "output_type": "stream",
          "text": [
            "Collecting kneed\n",
            "  Downloading https://files.pythonhosted.org/packages/c3/6b/e130913aaaad1373060e259ab222ca2330672db696b297b082c3f3089fcc/kneed-0.7.0-py2.py3-none-any.whl\n",
            "Requirement already satisfied, skipping upgrade: scipy in /usr/local/lib/python3.7/dist-packages (from kneed) (1.4.1)\n",
            "Requirement already satisfied, skipping upgrade: numpy>=1.14.2 in /usr/local/lib/python3.7/dist-packages (from kneed) (1.19.5)\n",
            "Requirement already satisfied, skipping upgrade: matplotlib in /usr/local/lib/python3.7/dist-packages (from kneed) (3.2.2)\n",
            "Requirement already satisfied, skipping upgrade: python-dateutil>=2.1 in /usr/local/lib/python3.7/dist-packages (from matplotlib->kneed) (2.8.1)\n",
            "Requirement already satisfied, skipping upgrade: cycler>=0.10 in /usr/local/lib/python3.7/dist-packages (from matplotlib->kneed) (0.10.0)\n",
            "Requirement already satisfied, skipping upgrade: pyparsing!=2.0.4,!=2.1.2,!=2.1.6,>=2.0.1 in /usr/local/lib/python3.7/dist-packages (from matplotlib->kneed) (2.4.7)\n",
            "Requirement already satisfied, skipping upgrade: kiwisolver>=1.0.1 in /usr/local/lib/python3.7/dist-packages (from matplotlib->kneed) (1.3.1)\n",
            "Requirement already satisfied, skipping upgrade: six>=1.5 in /usr/local/lib/python3.7/dist-packages (from python-dateutil>=2.1->matplotlib->kneed) (1.15.0)\n",
            "Installing collected packages: kneed\n",
            "Successfully installed kneed-0.7.0\n"
          ],
          "name": "stdout"
        }
      ]
    },
    {
      "cell_type": "code",
      "metadata": {
        "id": "VBnkq7mrnKqX"
      },
      "source": [
        "import tensorflow as tf\n",
        "import pandas as pd\n",
        "import numpy as np\n",
        "%matplotlib inline\n",
        "import matplotlib.pyplot as plt\n",
        "from sklearn.cluster import KMeans\n",
        "from scipy.spatial.distance import cdist\n",
        "from kneed import KneeLocator\n",
        "from sklearn.neighbors import KernelDensity"
      ],
      "execution_count": null,
      "outputs": []
    },
    {
      "cell_type": "code",
      "metadata": {
        "id": "GjjindwDnY_l"
      },
      "source": [
        "def data_cleaning(data):\n",
        "  #drop na\n",
        "  data.dropna(\n",
        "    axis=0,\n",
        "    how='any',\n",
        "    subset=['Latitude','Longitude'],\n",
        "    inplace=True)\n",
        "  \n",
        "  #define variable\n",
        "  data = data.loc[:,['Latitude','Longitude']]\n",
        "\n",
        "  return data"
      ],
      "execution_count": null,
      "outputs": []
    },
    {
      "cell_type": "code",
      "metadata": {
        "id": "C82bw6GRnZ-k"
      },
      "source": [
        "def clustering(data):\n",
        "  #define number of cluster\n",
        "  kmeans_kwargs = {\"init\": \"random\",\n",
        "                   \"n_init\": 10,\n",
        "                   \"random_state\": 42}\n",
        "  sse = []\n",
        "  for k in range(1, 20):\n",
        "    kmeans = KMeans(n_clusters=k, **kmeans_kwargs)\n",
        "    kmeans.fit(data)\n",
        "    sse.append(kmeans.inertia_)\n",
        "  kl = KneeLocator(\n",
        "      range(1, 20),\n",
        "      sse,\n",
        "      curve=\"convex\",\n",
        "      direction=\"decreasing\"\n",
        "      )\n",
        "  number_of_cluster = kl.elbow.astype(np.int32)\n",
        "\n",
        "  kmeans_tf = tf.compat.v1.estimator.experimental.KMeans(\n",
        "      num_clusters = number_of_cluster\n",
        "      )  \n",
        "\n",
        "  #make a tf data\n",
        "  def input_fn():\n",
        "    return tf.compat.v1.train.limit_epochs(\n",
        "        tf.convert_to_tensor(data.to_numpy(), dtype=tf.float32), num_epochs=1)\n",
        "  \n",
        "  #define centroid\n",
        "  num_iterations = 10\n",
        "  previous_centers = None\n",
        "  for _ in range(num_iterations):\n",
        "    kmeans_tf.train(input_fn)\n",
        "    cluster_centers = kmeans_tf.cluster_centers()\n",
        "    if previous_centers is not None:\n",
        "      previous_centers = cluster_centers\n",
        "  centroid = pd.DataFrame(cluster_centers, columns = ['Latitude','Longitude']) \n",
        "\n",
        "  #define radius\n",
        "  km = KMeans(n_clusters=number_of_cluster)\n",
        "  X = data.values\n",
        "  Y = km.fit_predict(X)\n",
        "  cluster_centroid = {}\n",
        "  rad = {}\n",
        "  for clust in range(len(centroid)):\n",
        "    cluster_centroid[clust] = list(zip(cluster_centers[:, 0], cluster_centers[:,1]))[clust]\n",
        "    rad[clust] = max([np.linalg.norm(np.subtract(i, cluster_centroid[clust]))for i in zip(X[Y == clust, 0], X[Y == clust, 1])])  \n",
        "  rad = [float(q) for q in list(rad.values())]\n",
        "  radius=np.array(rad)\n",
        "  radius = pd.DataFrame(radius, columns=['Radius'])\n",
        "\n",
        "  #make a dataframe for output\n",
        "  output = pd.concat([centroid, radius], axis=1)\n",
        "  \n",
        "  return output"
      ],
      "execution_count": null,
      "outputs": []
    },
    {
      "cell_type": "code",
      "metadata": {
        "colab": {
          "base_uri": "https://localhost:8080/"
        },
        "id": "I7G_ip8ODqW0",
        "outputId": "5bf25bd8-2720-4f01-c6e9-7837d06348c6"
      },
      "source": [
        "from google.colab import drive\n",
        "drive.mount('/content/drive')"
      ],
      "execution_count": null,
      "outputs": [
        {
          "output_type": "stream",
          "text": [
            "Drive already mounted at /content/drive; to attempt to forcibly remount, call drive.mount(\"/content/drive\", force_remount=True).\n"
          ],
          "name": "stdout"
        }
      ]
    },
    {
      "cell_type": "code",
      "metadata": {
        "id": "XEyqUPqdD84C"
      },
      "source": [
        "data=pd.read_csv('/content/drive/Shareddrives/CapstoneProject/Datasets/train.csv')"
      ],
      "execution_count": null,
      "outputs": []
    },
    {
      "cell_type": "code",
      "metadata": {
        "id": "JP6jHA3eE0pG"
      },
      "source": [
        "data = data_cleaning(data)"
      ],
      "execution_count": null,
      "outputs": []
    },
    {
      "cell_type": "code",
      "metadata": {
        "colab": {
          "base_uri": "https://localhost:8080/"
        },
        "id": "cSeMGEKTEeag",
        "outputId": "7b011a5c-5c69-4f92-cc90-6d9036bcd5af"
      },
      "source": [
        "coba = clustering(data)\n"
      ],
      "execution_count": null,
      "outputs": [
        {
          "output_type": "stream",
          "text": [
            "INFO:tensorflow:Using default config.\n",
            "WARNING:tensorflow:Using temporary folder as model directory: /tmp/tmpveu25j9p\n",
            "INFO:tensorflow:Using config: {'_model_dir': '/tmp/tmpveu25j9p', '_tf_random_seed': None, '_save_summary_steps': 100, '_save_checkpoints_steps': None, '_save_checkpoints_secs': 600, '_session_config': allow_soft_placement: true\n",
            "graph_options {\n",
            "  rewrite_options {\n",
            "    meta_optimizer_iterations: ONE\n",
            "  }\n",
            "}\n",
            ", '_keep_checkpoint_max': 5, '_keep_checkpoint_every_n_hours': 10000, '_log_step_count_steps': 100, '_train_distribute': None, '_device_fn': None, '_protocol': None, '_eval_distribute': None, '_experimental_distribute': None, '_experimental_max_worker_delay_secs': None, '_session_creation_timeout_secs': 7200, '_checkpoint_save_graph_def': True, '_service': None, '_cluster_spec': ClusterSpec({}), '_task_type': 'worker', '_task_id': 0, '_global_id_in_cluster': 0, '_master': '', '_evaluation_master': '', '_is_chief': True, '_num_ps_replicas': 0, '_num_worker_replicas': 1}\n",
            "WARNING:tensorflow:From /usr/local/lib/python3.7/dist-packages/tensorflow/python/training/training_util.py:236: Variable.initialized_value (from tensorflow.python.ops.variables) is deprecated and will be removed in a future version.\n",
            "Instructions for updating:\n",
            "Use Variable.read_value. Variables in 2.X are initialized automatically both in eager and graph (inside tf.defun) contexts.\n",
            "WARNING:tensorflow:From <ipython-input-4-7776d195509c>:26: limit_epochs (from tensorflow.python.training.input) is deprecated and will be removed in a future version.\n",
            "Instructions for updating:\n",
            "Queue-based input pipelines have been replaced by `tf.data`. Use `tf.data.Dataset.from_tensors(tensor).repeat(num_epochs)`.\n",
            "WARNING:tensorflow:From /usr/local/lib/python3.7/dist-packages/tensorflow/python/training/input.py:112: BaseResourceVariable.count_up_to (from tensorflow.python.ops.resource_variable_ops) is deprecated and will be removed in a future version.\n",
            "Instructions for updating:\n",
            "Prefer Dataset.range instead.\n",
            "INFO:tensorflow:Calling model_fn.\n",
            "INFO:tensorflow:Done calling model_fn.\n",
            "INFO:tensorflow:Create CheckpointSaverHook.\n",
            "INFO:tensorflow:Graph was finalized.\n",
            "INFO:tensorflow:Running local_init_op.\n",
            "INFO:tensorflow:Done running local_init_op.\n",
            "INFO:tensorflow:Calling checkpoint listeners before saving checkpoint 0...\n",
            "INFO:tensorflow:Saving checkpoints for 0 into /tmp/tmpveu25j9p/model.ckpt.\n",
            "INFO:tensorflow:Calling checkpoint listeners after saving checkpoint 0...\n",
            "INFO:tensorflow:Calling checkpoint listeners before saving checkpoint 1...\n",
            "INFO:tensorflow:Saving checkpoints for 1 into /tmp/tmpveu25j9p/model.ckpt.\n",
            "INFO:tensorflow:Calling checkpoint listeners after saving checkpoint 1...\n",
            "WARNING:tensorflow:Training with estimator made no steps. Perhaps input is empty or misspecified.\n",
            "INFO:tensorflow:Loss for final step: None.\n",
            "INFO:tensorflow:Calling model_fn.\n",
            "INFO:tensorflow:Done calling model_fn.\n",
            "INFO:tensorflow:Create CheckpointSaverHook.\n",
            "INFO:tensorflow:Graph was finalized.\n",
            "INFO:tensorflow:Restoring parameters from /tmp/tmpveu25j9p/model.ckpt-1\n",
            "WARNING:tensorflow:From /usr/local/lib/python3.7/dist-packages/tensorflow/python/training/saver.py:1078: get_checkpoint_mtimes (from tensorflow.python.training.checkpoint_management) is deprecated and will be removed in a future version.\n",
            "Instructions for updating:\n",
            "Use standard file utilities to get mtimes.\n",
            "INFO:tensorflow:Running local_init_op.\n",
            "INFO:tensorflow:Done running local_init_op.\n",
            "INFO:tensorflow:Calling checkpoint listeners before saving checkpoint 1...\n",
            "INFO:tensorflow:Saving checkpoints for 1 into /tmp/tmpveu25j9p/model.ckpt.\n",
            "INFO:tensorflow:Calling checkpoint listeners after saving checkpoint 1...\n",
            "INFO:tensorflow:loss = 55.38086, step = 1\n",
            "INFO:tensorflow:Calling checkpoint listeners before saving checkpoint 3...\n",
            "INFO:tensorflow:Saving checkpoints for 3 into /tmp/tmpveu25j9p/model.ckpt.\n",
            "INFO:tensorflow:Calling checkpoint listeners after saving checkpoint 3...\n",
            "INFO:tensorflow:Loss for final step: 55.38086.\n",
            "INFO:tensorflow:Calling model_fn.\n",
            "INFO:tensorflow:Done calling model_fn.\n",
            "INFO:tensorflow:Create CheckpointSaverHook.\n",
            "INFO:tensorflow:Graph was finalized.\n",
            "INFO:tensorflow:Restoring parameters from /tmp/tmpveu25j9p/model.ckpt-3\n",
            "INFO:tensorflow:Running local_init_op.\n",
            "INFO:tensorflow:Done running local_init_op.\n",
            "INFO:tensorflow:Calling checkpoint listeners before saving checkpoint 3...\n",
            "INFO:tensorflow:Saving checkpoints for 3 into /tmp/tmpveu25j9p/model.ckpt.\n",
            "INFO:tensorflow:Calling checkpoint listeners after saving checkpoint 3...\n",
            "INFO:tensorflow:loss = 45.463867, step = 3\n",
            "INFO:tensorflow:Calling checkpoint listeners before saving checkpoint 5...\n",
            "INFO:tensorflow:Saving checkpoints for 5 into /tmp/tmpveu25j9p/model.ckpt.\n",
            "INFO:tensorflow:Calling checkpoint listeners after saving checkpoint 5...\n",
            "INFO:tensorflow:Loss for final step: 45.463867.\n",
            "INFO:tensorflow:Calling model_fn.\n",
            "INFO:tensorflow:Done calling model_fn.\n",
            "INFO:tensorflow:Create CheckpointSaverHook.\n",
            "INFO:tensorflow:Graph was finalized.\n",
            "INFO:tensorflow:Restoring parameters from /tmp/tmpveu25j9p/model.ckpt-5\n",
            "INFO:tensorflow:Running local_init_op.\n",
            "INFO:tensorflow:Done running local_init_op.\n",
            "INFO:tensorflow:Calling checkpoint listeners before saving checkpoint 5...\n",
            "INFO:tensorflow:Saving checkpoints for 5 into /tmp/tmpveu25j9p/model.ckpt.\n",
            "INFO:tensorflow:Calling checkpoint listeners after saving checkpoint 5...\n",
            "INFO:tensorflow:loss = 40.180664, step = 5\n",
            "INFO:tensorflow:Calling checkpoint listeners before saving checkpoint 7...\n",
            "INFO:tensorflow:Saving checkpoints for 7 into /tmp/tmpveu25j9p/model.ckpt.\n",
            "INFO:tensorflow:Calling checkpoint listeners after saving checkpoint 7...\n",
            "INFO:tensorflow:Loss for final step: 40.180664.\n",
            "INFO:tensorflow:Calling model_fn.\n",
            "INFO:tensorflow:Done calling model_fn.\n",
            "INFO:tensorflow:Create CheckpointSaverHook.\n",
            "INFO:tensorflow:Graph was finalized.\n",
            "INFO:tensorflow:Restoring parameters from /tmp/tmpveu25j9p/model.ckpt-7\n",
            "INFO:tensorflow:Running local_init_op.\n",
            "INFO:tensorflow:Done running local_init_op.\n",
            "INFO:tensorflow:Calling checkpoint listeners before saving checkpoint 7...\n",
            "INFO:tensorflow:Saving checkpoints for 7 into /tmp/tmpveu25j9p/model.ckpt.\n",
            "INFO:tensorflow:Calling checkpoint listeners after saving checkpoint 7...\n",
            "INFO:tensorflow:loss = 39.301758, step = 7\n",
            "INFO:tensorflow:Calling checkpoint listeners before saving checkpoint 9...\n",
            "INFO:tensorflow:Saving checkpoints for 9 into /tmp/tmpveu25j9p/model.ckpt.\n",
            "WARNING:tensorflow:From /usr/local/lib/python3.7/dist-packages/tensorflow/python/training/saver.py:971: remove_checkpoint (from tensorflow.python.training.checkpoint_management) is deprecated and will be removed in a future version.\n",
            "Instructions for updating:\n",
            "Use standard file APIs to delete files with this prefix.\n",
            "INFO:tensorflow:Calling checkpoint listeners after saving checkpoint 9...\n",
            "INFO:tensorflow:Loss for final step: 39.301758.\n",
            "INFO:tensorflow:Calling model_fn.\n",
            "INFO:tensorflow:Done calling model_fn.\n",
            "INFO:tensorflow:Create CheckpointSaverHook.\n",
            "INFO:tensorflow:Graph was finalized.\n",
            "INFO:tensorflow:Restoring parameters from /tmp/tmpveu25j9p/model.ckpt-9\n",
            "INFO:tensorflow:Running local_init_op.\n",
            "INFO:tensorflow:Done running local_init_op.\n",
            "INFO:tensorflow:Calling checkpoint listeners before saving checkpoint 9...\n",
            "INFO:tensorflow:Saving checkpoints for 9 into /tmp/tmpveu25j9p/model.ckpt.\n",
            "INFO:tensorflow:Calling checkpoint listeners after saving checkpoint 9...\n",
            "INFO:tensorflow:loss = 42.748047, step = 9\n",
            "INFO:tensorflow:Calling checkpoint listeners before saving checkpoint 11...\n",
            "INFO:tensorflow:Saving checkpoints for 11 into /tmp/tmpveu25j9p/model.ckpt.\n",
            "INFO:tensorflow:Calling checkpoint listeners after saving checkpoint 11...\n",
            "INFO:tensorflow:Loss for final step: 42.748047.\n",
            "INFO:tensorflow:Calling model_fn.\n",
            "INFO:tensorflow:Done calling model_fn.\n",
            "INFO:tensorflow:Create CheckpointSaverHook.\n",
            "INFO:tensorflow:Graph was finalized.\n",
            "INFO:tensorflow:Restoring parameters from /tmp/tmpveu25j9p/model.ckpt-11\n",
            "INFO:tensorflow:Running local_init_op.\n",
            "INFO:tensorflow:Done running local_init_op.\n",
            "INFO:tensorflow:Calling checkpoint listeners before saving checkpoint 11...\n",
            "INFO:tensorflow:Saving checkpoints for 11 into /tmp/tmpveu25j9p/model.ckpt.\n",
            "INFO:tensorflow:Calling checkpoint listeners after saving checkpoint 11...\n",
            "INFO:tensorflow:loss = 40.8125, step = 11\n",
            "INFO:tensorflow:Calling checkpoint listeners before saving checkpoint 13...\n",
            "INFO:tensorflow:Saving checkpoints for 13 into /tmp/tmpveu25j9p/model.ckpt.\n",
            "INFO:tensorflow:Calling checkpoint listeners after saving checkpoint 13...\n",
            "INFO:tensorflow:Loss for final step: 40.8125.\n",
            "INFO:tensorflow:Calling model_fn.\n",
            "INFO:tensorflow:Done calling model_fn.\n",
            "INFO:tensorflow:Create CheckpointSaverHook.\n",
            "INFO:tensorflow:Graph was finalized.\n",
            "INFO:tensorflow:Restoring parameters from /tmp/tmpveu25j9p/model.ckpt-13\n",
            "INFO:tensorflow:Running local_init_op.\n",
            "INFO:tensorflow:Done running local_init_op.\n",
            "INFO:tensorflow:Calling checkpoint listeners before saving checkpoint 13...\n",
            "INFO:tensorflow:Saving checkpoints for 13 into /tmp/tmpveu25j9p/model.ckpt.\n",
            "INFO:tensorflow:Calling checkpoint listeners after saving checkpoint 13...\n",
            "INFO:tensorflow:loss = 38.779297, step = 13\n",
            "INFO:tensorflow:Calling checkpoint listeners before saving checkpoint 15...\n",
            "INFO:tensorflow:Saving checkpoints for 15 into /tmp/tmpveu25j9p/model.ckpt.\n",
            "INFO:tensorflow:Calling checkpoint listeners after saving checkpoint 15...\n",
            "INFO:tensorflow:Loss for final step: 38.779297.\n",
            "INFO:tensorflow:Calling model_fn.\n",
            "INFO:tensorflow:Done calling model_fn.\n",
            "INFO:tensorflow:Create CheckpointSaverHook.\n",
            "INFO:tensorflow:Graph was finalized.\n",
            "INFO:tensorflow:Restoring parameters from /tmp/tmpveu25j9p/model.ckpt-15\n",
            "INFO:tensorflow:Running local_init_op.\n",
            "INFO:tensorflow:Done running local_init_op.\n",
            "INFO:tensorflow:Calling checkpoint listeners before saving checkpoint 15...\n",
            "INFO:tensorflow:Saving checkpoints for 15 into /tmp/tmpveu25j9p/model.ckpt.\n",
            "INFO:tensorflow:Calling checkpoint listeners after saving checkpoint 15...\n",
            "INFO:tensorflow:loss = 41.38672, step = 15\n",
            "INFO:tensorflow:Calling checkpoint listeners before saving checkpoint 17...\n",
            "INFO:tensorflow:Saving checkpoints for 17 into /tmp/tmpveu25j9p/model.ckpt.\n",
            "INFO:tensorflow:Calling checkpoint listeners after saving checkpoint 17...\n",
            "INFO:tensorflow:Loss for final step: 41.38672.\n",
            "INFO:tensorflow:Calling model_fn.\n",
            "INFO:tensorflow:Done calling model_fn.\n",
            "INFO:tensorflow:Create CheckpointSaverHook.\n",
            "INFO:tensorflow:Graph was finalized.\n",
            "INFO:tensorflow:Restoring parameters from /tmp/tmpveu25j9p/model.ckpt-17\n",
            "INFO:tensorflow:Running local_init_op.\n",
            "INFO:tensorflow:Done running local_init_op.\n",
            "INFO:tensorflow:Calling checkpoint listeners before saving checkpoint 17...\n",
            "INFO:tensorflow:Saving checkpoints for 17 into /tmp/tmpveu25j9p/model.ckpt.\n",
            "INFO:tensorflow:Calling checkpoint listeners after saving checkpoint 17...\n",
            "INFO:tensorflow:loss = 37.347656, step = 17\n",
            "INFO:tensorflow:Calling checkpoint listeners before saving checkpoint 19...\n",
            "INFO:tensorflow:Saving checkpoints for 19 into /tmp/tmpveu25j9p/model.ckpt.\n",
            "INFO:tensorflow:Calling checkpoint listeners after saving checkpoint 19...\n",
            "INFO:tensorflow:Loss for final step: 37.347656.\n"
          ],
          "name": "stdout"
        }
      ]
    },
    {
      "cell_type": "code",
      "metadata": {
        "colab": {
          "base_uri": "https://localhost:8080/",
          "height": 168
        },
        "id": "FxPRxsg4MLf7",
        "outputId": "bcd425e7-ff02-4252-b17c-51e6f71f7371"
      },
      "source": [
        "coba"
      ],
      "execution_count": null,
      "outputs": [
        {
          "output_type": "execute_result",
          "data": {
            "text/html": [
              "<div>\n",
              "<style scoped>\n",
              "    .dataframe tbody tr th:only-of-type {\n",
              "        vertical-align: middle;\n",
              "    }\n",
              "\n",
              "    .dataframe tbody tr th {\n",
              "        vertical-align: top;\n",
              "    }\n",
              "\n",
              "    .dataframe thead th {\n",
              "        text-align: right;\n",
              "    }\n",
              "</style>\n",
              "<table border=\"1\" class=\"dataframe\">\n",
              "  <thead>\n",
              "    <tr style=\"text-align: right;\">\n",
              "      <th></th>\n",
              "      <th>Latitude</th>\n",
              "      <th>Longitude</th>\n",
              "      <th>Radius</th>\n",
              "    </tr>\n",
              "  </thead>\n",
              "  <tbody>\n",
              "    <tr>\n",
              "      <th>0</th>\n",
              "      <td>41.715584</td>\n",
              "      <td>-87.612770</td>\n",
              "      <td>0.202485</td>\n",
              "    </tr>\n",
              "    <tr>\n",
              "      <th>1</th>\n",
              "      <td>41.840130</td>\n",
              "      <td>-87.701340</td>\n",
              "      <td>0.258046</td>\n",
              "    </tr>\n",
              "    <tr>\n",
              "      <th>2</th>\n",
              "      <td>41.965790</td>\n",
              "      <td>-87.849159</td>\n",
              "      <td>0.249054</td>\n",
              "    </tr>\n",
              "    <tr>\n",
              "      <th>3</th>\n",
              "      <td>41.966259</td>\n",
              "      <td>-87.712807</td>\n",
              "      <td>0.353065</td>\n",
              "    </tr>\n",
              "  </tbody>\n",
              "</table>\n",
              "</div>"
            ],
            "text/plain": [
              "    Latitude  Longitude    Radius\n",
              "0  41.715584 -87.612770  0.202485\n",
              "1  41.840130 -87.701340  0.258046\n",
              "2  41.965790 -87.849159  0.249054\n",
              "3  41.966259 -87.712807  0.353065"
            ]
          },
          "metadata": {
            "tags": []
          },
          "execution_count": 9
        }
      ]
    }
  ]
}